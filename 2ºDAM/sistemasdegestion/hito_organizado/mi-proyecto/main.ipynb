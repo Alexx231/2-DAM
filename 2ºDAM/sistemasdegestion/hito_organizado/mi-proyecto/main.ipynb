{
 "cells": [
  {
   "cell_type": "code",
   "execution_count": 4,
   "id": "d169d4eb-e177-44aa-b0ba-d4967c1448bf",
   "metadata": {},
   "outputs": [
    {
     "name": "stdout",
     "output_type": "stream",
     "text": [
      "Descarga exitosa del archivo Excel.\n"
     ]
    },
    {
     "name": "stderr",
     "output_type": "stream",
     "text": [
      "/usr/local/python/3.12.1/lib/python3.12/site-packages/openpyxl/styles/stylesheet.py:237: UserWarning: Workbook contains no default style, apply openpyxl's default\n",
      "  warn(\"Workbook contains no default style, apply openpyxl's default\")\n"
     ]
    },
    {
     "name": "stdout",
     "output_type": "stream",
     "text": [
      "Primeras filas del DataFrame original:\n",
      "0       Índice de Producción Industrial. (Base 2021)     NaN  NaN  NaN  NaN  \\\n",
      "0                                                NaN     NaN  NaN  NaN  NaN   \n",
      "1  General y por destino económico de los bienes....     NaN  NaN  NaN  NaN   \n",
      "2                        Unidades:   Índice,   Tasas     NaN  NaN  NaN  NaN   \n",
      "3                                                NaN     NaN  NaN  NaN  NaN   \n",
      "4                                                     Índice  NaN  NaN  NaN   \n",
      "\n",
      "0  NaN  NaN  NaN  NaN  NaN  \n",
      "0  NaN  NaN  NaN  NaN  NaN  \n",
      "1  NaN  NaN  NaN  NaN  NaN  \n",
      "2  NaN  NaN  NaN  NaN  NaN  \n",
      "3  NaN  NaN  NaN  NaN  NaN  \n",
      "4  NaN  NaN  NaN  NaN  NaN  \n"
     ]
    }
   ],
   "source": [
    "import os\n",
    "import sys\n",
    "sys.path.append('..')\n",
    "import pandas as pd\n",
    "\n",
    "from scripts.extraccion_datos import *\n",
    "\n",
    "# Crear la carpeta 'data' si no existe\n",
    "directorio_salida = 'data'\n",
    "os.makedirs(directorio_salida, exist_ok=True)\n",
    "\n",
    "# Descargar el archivo Excel\n",
    "url = 'https://www.ine.es/jaxiT3/files/t/es/xlsx/60272.xlsx?nocab=1'\n",
    "ruta_salida = os.path.join(directorio_salida, 'datos_ine.xlsx')\n",
    "descargar_archivo_excel(url, ruta_salida)\n",
    "\n",
    "# Verificar que la descarga fue exitosa\n",
    "if os.path.exists(ruta_salida):\n",
    "    print(\"Descarga exitosa del archivo Excel.\")\n",
    "else:\n",
    "    print(\"Error en la descarga del archivo Excel.\")\n",
    "\n",
    "# Cargar el archivo Excel\n",
    "datos_excel = cargar_archivo_excel(ruta_salida)\n",
    "\n",
    "# Leer la hoja de datos\n",
    "nombre_hoja = datos_excel.sheet_names[0]\n",
    "df = leer_hoja_excel(datos_excel, nombre_hoja)\n",
    "\n",
    "# Guardar el DataFrame original con codificación UTF-8\n",
    "ruta_salida_original = os.path.join(directorio_salida, 'datos_ine_original.xlsx')\n",
    "df.to_excel(ruta_salida_original, index=False)\n",
    "\n",
    "# Mostrar las primeras filas y columnas relevantes del DataFrame\n",
    "print(\"Primeras filas del DataFrame original:\")\n",
    "print(df.iloc[:5, :10])  # Mostrar las primeras 5 filas y 10 columnas"
   ]
  },
  {
   "cell_type": "code",
   "execution_count": 5,
   "id": "3de0f311-9bb7-4338-93a3-fba267bd4b77",
   "metadata": {},
   "outputs": [
    {
     "name": "stdout",
     "output_type": "stream",
     "text": [
      "Iniciando la limpieza de datos...\n",
      "Datos limpiados y guardados en: data/datos_ine_limpio.xlsx\n",
      "Datos con NaN reemplazados por 0 y guardados en: data/datos_ine_sin_nan.xlsx\n",
      "Datos incorrectos limpiados y guardados en: data/datos_ine_corregido.xlsx\n"
     ]
    }
   ],
   "source": [
    "# Limpieza de datos\n",
    "print(\"Iniciando la limpieza de datos...\") \n",
    "\n",
    "from scripts.limpieza_datos import limpiar_dataframe, reemplazar_nan_por_cero, limpiar_datos_incorrectos\n",
    "\n",
    "# Limpiar el DataFrame\n",
    "df_limpio = limpiar_dataframe(df)\n",
    "archivo_limpio = os.path.join(directorio_salida, 'datos_ine_limpio.xlsx')\n",
    "df_limpio.to_excel(archivo_limpio, index=False)\n",
    "print(f\"Datos limpiados y guardados en: {archivo_limpio}\")\n",
    "\n",
    "# Reemplazar NaN por 0\n",
    "df_sin_nan = reemplazar_nan_por_cero(df_limpio)\n",
    "archivo_sin_nan = os.path.join(directorio_salida, 'datos_ine_sin_nan.xlsx')\n",
    "df_sin_nan.to_excel(archivo_sin_nan, index=False)\n",
    "print(f\"Datos con NaN reemplazados por 0 y guardados en: {archivo_sin_nan}\")\n",
    "\n",
    "# Limpiar datos incorrectos\n",
    "df_corregido = limpiar_datos_incorrectos(df_sin_nan)\n",
    "archivo_corregido = os.path.join(directorio_salida, 'datos_ine_corregido.xlsx')\n",
    "df_corregido.to_excel(archivo_corregido, index=False)\n",
    "print(f\"Datos incorrectos limpiados y guardados en: {archivo_corregido}\")"
   ]
  },
  {
   "cell_type": "code",
   "execution_count": 8,
   "id": "f350c184-77c9-4cf6-b16d-cdc269126573",
   "metadata": {},
   "outputs": [
    {
     "name": "stdout",
     "output_type": "stream",
     "text": [
      "Datos transpuestos y guardados en: data/datos_ine_transpuesto.xlsx\n",
      "Colecciones de datos extraídas correctamente.\n"
     ]
    }
   ],
   "source": [
    "# Función para transponer el DataFrame\n",
    "def transponer_dataframe(df):\n",
    "    return df.transpose()\n",
    "\n",
    "# Transponer el DataFrame\n",
    "df_transpuesto = transponer_dataframe(df_corregido)\n",
    "archivo_transpuesto = os.path.join(directorio_salida, 'datos_ine_transpuesto.xlsx')\n",
    "df_transpuesto.to_excel(archivo_transpuesto, index=False)\n",
    "print(f\"Datos transpuestos y guardados en: {archivo_transpuesto}\")\n",
    "\n",
    "# Extraer colecciones de datos\n",
    "colecciones_datos = [df_transpuesto.iloc[i].tolist() for i in range(len(df_transpuesto))]\n",
    "print(\"Colecciones de datos extraídas correctamente.\")"
   ]
  },
  {
   "cell_type": "code",
   "execution_count": 9,
   "id": "abac2589-9d23-43eb-b289-fc02b0165c59",
   "metadata": {},
   "outputs": [
    {
     "name": "stdout",
     "output_type": "stream",
     "text": [
      "Colecciones de datos guardadas en: data/lista.txt\n"
     ]
    }
   ],
   "source": [
    "import os\n",
    "\n",
    "# Importar la función guardar_datos_concatenados desde el archivo correspondiente\n",
    "from scripts.operaciones import guardar_datos_concatenados\n",
    "\n",
    "# Asegurarse de que el directorio de salida existe\n",
    "directorio_salida = 'data'\n",
    "if not os.path.exists(directorio_salida):\n",
    "    os.makedirs(directorio_salida)\n",
    "\n",
    "# Guardar las colecciones de datos en un archivo de texto con codificación UTF-8\n",
    "archivo_lista = os.path.join(directorio_salida, 'lista.txt')\n",
    "guardar_datos_concatenados(colecciones_datos, archivo_lista)\n",
    "print(f\"Colecciones de datos guardadas en: {archivo_lista}\")"
   ]
  },
  {
   "cell_type": "code",
   "execution_count": 48,
   "id": "b72b301e",
   "metadata": {},
   "outputs": [
    {
     "name": "stdout",
     "output_type": "stream",
     "text": [
      "DataFrame limpio guardado en: data/datos_ine_transpuesto_limpio.xlsx\n",
      "DataFrame con las sumas guardado en: data/datos_ine_sumas.xlsx\n",
      "Contenido del DataFrame con las sumas:\n",
      "Empty DataFrame\n",
      "Columns: [Total]\n",
      "Index: []\n"
     ]
    }
   ],
   "source": [
    "import os\n",
    "import pandas as pd\n",
    "\n",
    "# Asegurarse de que el directorio de salida existe\n",
    "directorio_salida = 'data'\n",
    "if not os.path.exists(directorio_salida):\n",
    "    os.makedirs(directorio_salida)\n",
    "\n",
    "# Cargar el DataFrame transpuesto desde el archivo Excel\n",
    "ruta_archivo_transpuesto = os.path.join(directorio_salida, 'datos_ine_transpuesto.xlsx')\n",
    "df_transpuesto = pd.read_excel(ruta_archivo_transpuesto)\n",
    "\n",
    "# Eliminar las columnas 0 a 13 y 149 a 156\n",
    "cols_to_drop = list(df_transpuesto.columns[0:12]) + list(df_transpuesto.columns[149:156])\n",
    "df_transpuesto.drop(cols_to_drop, axis=1, inplace=True)\n",
    "\n",
    "# Eliminar las celdas donde haya 0\n",
    "df_transpuesto.replace(0, pd.NA, inplace=True)\n",
    "df_transpuesto.dropna(how='any', inplace=True)\n",
    "\n",
    "# Guardar el DataFrame limpio en un nuevo archivo Excel\n",
    "ruta_archivo_limpio = os.path.join(directorio_salida, 'datos_ine_transpuesto_limpio.xlsx')\n",
    "df_transpuesto.to_excel(ruta_archivo_limpio, index=False)\n",
    "print(f\"DataFrame limpio guardado en: {ruta_archivo_limpio}\")\n",
    "\n",
    "# Definir las columnas de interés\n",
    "columnas_interes = [\n",
    "    'Total industria', 'Bienes de consumo', 'Bienes de consumo duradero',\n",
    "    'Bienes de consumo no duradero', 'Bienes de equipo', 'Bienes intermedios', 'Energía'\n",
    "]\n",
    "\n",
    "# Filtrar el DataFrame para incluir solo las filas de interés\n",
    "df_filtrado = df_transpuesto[df_transpuesto.iloc[:, 0].isin(columnas_interes)]\n",
    "\n",
    "# Establecer la primera columna como índice\n",
    "df_filtrado.set_index(df_filtrado.columns[0], inplace=True)\n",
    "\n",
    "# Convertir los datos a numéricos, reemplazando no numéricos por NaN\n",
    "df_filtrado = df_filtrado.apply(pd.to_numeric, errors='coerce')\n",
    "\n",
    "# Calcular la suma total para cada categoría\n",
    "sumas_totales = df_filtrado.sum(axis=1)\n",
    "\n",
    "# Crear un nuevo DataFrame con las sumas totales\n",
    "df_sumas = pd.DataFrame(sumas_totales, columns=['Total']).transpose()\n",
    "\n",
    "# Guardar el DataFrame con las sumas en un nuevo archivo Excel\n",
    "ruta_archivo_sumas = os.path.join(directorio_salida, 'datos_ine_sumas.xlsx')\n",
    "df_sumas.to_excel(ruta_archivo_sumas, index=True)\n",
    "print(f\"DataFrame con las sumas guardado en: {ruta_archivo_sumas}\")\n",
    "\n",
    "# Imprimir el DataFrame con las sumas\n",
    "print(\"Contenido del DataFrame con las sumas:\")\n",
    "print(df_sumas)"
   ]
  },
  {
   "cell_type": "code",
   "execution_count": 44,
   "id": "a0725770-51e2-4bfe-8610-891e0fc3f176",
   "metadata": {},
   "outputs": [
    {
     "name": "stdout",
     "output_type": "stream",
     "text": [
      "MEDIA: nan\n",
      "VARIANZA: nan\n",
      "MODA: None\n"
     ]
    }
   ],
   "source": [
    "import pandas as pd\n",
    "\n",
    "# Cargar el archivo Excel\n",
    "file_path = 'data/datos_ine_transpuesto_limpio.xlsx'\n",
    "df = pd.read_excel(file_path)\n",
    "\n",
    "# Seleccionar las columnas de interés\n",
    "columnas_interes = [\n",
    "    'Total industria', 'Bienes de consumo', 'Bienes de consumo duradero',\n",
    "    'Bienes de consumo no duradero', 'Bienes de equipo', 'Bienes intermedios', 'Energía'\n",
    "]\n",
    "df_filtrado = df[df.iloc[:, 0].isin(columnas_interes)]\n",
    "\n",
    "# Asegurarse de que los datos sean numéricos y eliminar filas no válidas\n",
    "df_filtrado = df_filtrado.apply(pd.to_numeric, errors='coerce').dropna()\n",
    "\n",
    "# Calcular media, varianza y moda\n",
    "media = df_filtrado.mean().mean()\n",
    "varianza = df_filtrado.var().mean()\n",
    "moda = df_filtrado.mode().iloc[0].mean() if not df_filtrado.mode().empty else None\n",
    "\n",
    "# Imprimir resultados\n",
    "print(f\"MEDIA: {media}\")\n",
    "print(f\"VARIANZA: {varianza}\")\n",
    "print(f\"MODA: {moda}\")\n"
   ]
  },
  {
   "cell_type": "code",
   "execution_count": null,
   "id": "d366da54-dff3-41c7-a066-31f73329d593",
   "metadata": {},
   "outputs": [],
   "source": [
    "class DataRow:\n",
    "    def __init__(self, **kwargs):\n",
    "        self.__dict__.update(kwargs)\n",
    "    \n",
    "    def __str__(self):\n",
    "        return ', '.join(f\"{key}: {value}\" for key, value in self.__dict__.items())\n",
    "    \n",
    "    def modificar_valor(self, atributo, valor):\n",
    "        if atributo in self.__dict__:\n",
    "            self.__dict__[atributo] = valor\n",
    "    \n",
    "    def __eq__(self, other):\n",
    "        return self.__dict__.get('columna2', None) == other.__dict__.get('columna2', None)\n",
    "    \n",
    "    def __lt__(self, other):\n",
    "        return self.__dict__.get('columna2', None) < other.__dict__.get('columna2', None)\n",
    "    \n",
    "    def __add__(self, other):\n",
    "        return {key: self.__dict__[key] + other.__dict__[key] for key in self.__dict__}\n",
    "    \n",
    "    def __sub__(self, other):\n",
    "        return {key: self.__dict__[key] - other.__dict__[key] for key in self.__dict__}\n",
    "\n",
    "# Crear objetos de la clase para al menos cinco filas\n",
    "filas = [DataRow(**df_final.iloc[i].to_dict()) for i in range(5)]\n",
    "\n",
    "# Probar métodos\n",
    "for fila in filas:\n",
    "    print(fila)\n",
    "\n",
    "# Modificar valores\n",
    "filas[0].modificar_valor('columna1', 999)\n",
    "print(f\"Fila modificada: {filas[0]}\")\n",
    "\n",
    "# Comparar objetos\n",
    "print(f\"Comparación: {filas[0] == filas[1]}\")\n",
    "print(f\"Suma: {filas[0] + filas[1]}\")\n",
    "print(f\"Resta: {filas[0] - filas[1]}\")"
   ]
  }
 ],
 "metadata": {
  "kernelspec": {
   "display_name": "Python 3",
   "language": "python",
   "name": "python3"
  },
  "language_info": {
   "codemirror_mode": {
    "name": "ipython",
    "version": 3
   },
   "file_extension": ".py",
   "mimetype": "text/x-python",
   "name": "python",
   "nbconvert_exporter": "python",
   "pygments_lexer": "ipython3",
   "version": "3.12.1"
  }
 },
 "nbformat": 4,
 "nbformat_minor": 5
}
