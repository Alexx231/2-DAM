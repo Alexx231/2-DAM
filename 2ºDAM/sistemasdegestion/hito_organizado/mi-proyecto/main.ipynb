{
 "cells": [
  {
   "cell_type": "code",
   "execution_count": 1,
   "id": "d169d4eb-e177-44aa-b0ba-d4967c1448bf",
   "metadata": {},
   "outputs": [
    {
     "name": "stdout",
     "output_type": "stream",
     "text": [
      "Descarga exitosa del archivo Excel.\n"
     ]
    },
    {
     "name": "stderr",
     "output_type": "stream",
     "text": [
      "C:\\Users\\holas\\anaconda3\\envs\\Hito1_SGE_1T_AlejandroPawlukiewicz\\Lib\\site-packages\\openpyxl\\styles\\stylesheet.py:237: UserWarning: Workbook contains no default style, apply openpyxl's default\n",
      "  warn(\"Workbook contains no default style, apply openpyxl's default\")\n"
     ]
    },
    {
     "name": "stdout",
     "output_type": "stream",
     "text": [
      "Primeras filas del DataFrame original:\n",
      "0       Índice de Producción Industrial. (Base 2021)     NaN  NaN  NaN  NaN  \\\n",
      "0                                                NaN     NaN  NaN  NaN  NaN   \n",
      "1  General y por destino económico de los bienes....     NaN  NaN  NaN  NaN   \n",
      "2                        Unidades:   Índice,   Tasas     NaN  NaN  NaN  NaN   \n",
      "3                                                NaN     NaN  NaN  NaN  NaN   \n",
      "4                                                     Índice  NaN  NaN  NaN   \n",
      "\n",
      "0  NaN  NaN  NaN  NaN  NaN  \n",
      "0  NaN  NaN  NaN  NaN  NaN  \n",
      "1  NaN  NaN  NaN  NaN  NaN  \n",
      "2  NaN  NaN  NaN  NaN  NaN  \n",
      "3  NaN  NaN  NaN  NaN  NaN  \n",
      "4  NaN  NaN  NaN  NaN  NaN  \n"
     ]
    }
   ],
   "source": [
    "import os\n",
    "import sys\n",
    "sys.path.append('..')\n",
    "import pandas as pd\n",
    "\n",
    "from scripts.extraccion_datos import *\n",
    "\n",
    "# Crear la carpeta 'data' si no existe\n",
    "directorio_salida = 'data'\n",
    "os.makedirs(directorio_salida, exist_ok=True)\n",
    "\n",
    "# Descargar el archivo Excel\n",
    "url = 'https://www.ine.es/jaxiT3/files/t/es/xlsx/60272.xlsx?nocab=1'\n",
    "ruta_salida = os.path.join(directorio_salida, 'datos_ine.xlsx')\n",
    "descargar_archivo_excel(url, ruta_salida)\n",
    "\n",
    "# Verificar que la descarga fue exitosa\n",
    "if os.path.exists(ruta_salida):\n",
    "    print(\"Descarga exitosa del archivo Excel.\")\n",
    "else:\n",
    "    print(\"Error en la descarga del archivo Excel.\")\n",
    "\n",
    "# Cargar el archivo Excel\n",
    "datos_excel = cargar_archivo_excel(ruta_salida)\n",
    "\n",
    "# Leer la hoja de datos\n",
    "nombre_hoja = datos_excel.sheet_names[0]\n",
    "df = leer_hoja_excel(datos_excel, nombre_hoja)\n",
    "\n",
    "# Guardar el DataFrame original con codificación UTF-8\n",
    "ruta_salida_original = os.path.join(directorio_salida, 'datos_ine_original.xlsx')\n",
    "df.to_excel(ruta_salida_original, index=False)\n",
    "\n",
    "# Mostrar las primeras filas y columnas relevantes del DataFrame\n",
    "print(\"Primeras filas del DataFrame original:\")\n",
    "print(df.iloc[:5, :10])  # Mostrar las primeras 5 filas y 10 columnas"
   ]
  },
  {
   "cell_type": "code",
   "execution_count": null,
   "id": "3de0f311-9bb7-4338-93a3-fba267bd4b77",
   "metadata": {},
   "outputs": [
    {
     "name": "stdout",
     "output_type": "stream",
     "text": [
      "Iniciando la limpieza de datos...\n",
      "Datos limpiados y guardados en: data\\datos_ine_limpio.xlsx\n",
      "Datos con NaN reemplazados por 0 y guardados en: data\\datos_ine_sin_nan.xlsx\n"
     ]
    }
   ],
   "source": [
    "# Limpieza de datos\n",
    "print(\"Iniciando la limpieza de datos...\") \n",
    "\n",
    "from scripts.limpieza_datos import limpiar_dataframe, reemplazar_nan_por_cero, limpiar_datos_incorrectos\n",
    "\n",
    "# Limpiar el DataFrame\n",
    "df_limpio = limpiar_dataframe(df)\n",
    "archivo_limpio = os.path.join(directorio_salida, 'datos_ine_limpio.xlsx')\n",
    "df_limpio.to_excel(archivo_limpio, index=False)\n",
    "print(f\"Datos limpiados y guardados en: {archivo_limpio}\")\n",
    "\n",
    "# Reemplazar NaN por 0\n",
    "df_sin_nan = reemplazar_nan_por_cero(df_limpio)\n",
    "archivo_sin_nan = os.path.join(directorio_salida, 'datos_ine_sin_nan.xlsx')\n",
    "df_sin_nan.to_excel(archivo_sin_nan, index=False)\n",
    "print(f\"Datos con NaN reemplazados por 0 y guardados en: {archivo_sin_nan}\")\n",
    "\n",
    "# Limpiar datos incorrectos\n",
    "df_corregido = limpiar_datos_incorrectos(df_sin_nan)\n",
    "archivo_corregido = os.path.join(directorio_salida, 'datos_ine_corregido.xlsx')\n",
    "df_corregido.to_excel(archivo_corregido, index=False)\n",
    "print(f\"Datos incorrectos limpiados y guardados en: {archivo_corregido}\")"
   ]
  },
  {
   "cell_type": "code",
   "execution_count": null,
   "id": "f350c184-77c9-4cf6-b16d-cdc269126573",
   "metadata": {},
   "outputs": [],
   "source": [
    "# Transformación de los datos\n",
    "from scripts.transformacion_datos import transponer_dataframe, extraer_colecciones_datos\n",
    "\n",
    "# Transformar los datos\n",
    "df_transpuesto = transponer_dataframe(df_corregido)\n",
    "archivo_transpuesto = os.path.join(directorio_salida, 'datos_ine_transpuesto.xlsx')\n",
    "df_transpuesto.to_excel(archivo_transpuesto, index=False)\n",
    "print(f\"Datos transformados y guardados en: {archivo_transpuesto}\")\n",
    "\n",
    "# Extraer colecciones de datos\n",
    "colecciones_datos = extraer_colecciones_datos(df_transpuesto)\n",
    "print(\"Colecciones de datos extraídas correctamente.\")"
   ]
  },
  {
   "cell_type": "code",
   "execution_count": null,
   "id": "abac2589-9d23-43eb-b289-fc02b0165c59",
   "metadata": {},
   "outputs": [],
   "source": [
    "import os\n",
    "\n",
    "# Importar la función guardar_datos_concatenados desde el archivo correspondiente\n",
    "from scripts.operaciones import guardar_datos_concatenados\n",
    "\n",
    "# Asegurarse de que el directorio de salida existe\n",
    "directorio_salida = 'data'\n",
    "if not os.path.exists(directorio_salida):\n",
    "    os.makedirs(directorio_salida)\n",
    "\n",
    "# Guardar las colecciones de datos en un archivo de texto con codificación UTF-8\n",
    "archivo_lista = os.path.join(directorio_salida, 'lista.txt')\n",
    "guardar_datos_concatenados(colecciones_datos, archivo_lista, encoding='utf-8')\n",
    "print(f\"Colecciones de datos guardadas en: {archivo_lista}\")"
   ]
  },
  {
   "cell_type": "code",
   "execution_count": null,
   "id": "a0725770-51e2-4bfe-8610-891e0fc3f176",
   "metadata": {},
   "outputs": [],
   "source": [
    "import os\n",
    "import pandas as pd\n",
    "from scripts.estadisticas_datos import calcular_estadisticas\n",
    "\n",
    "# Asegurarse de que el directorio de salida existe\n",
    "directorio_salida = 'data'\n",
    "if not os.path.exists(directorio_salida):\n",
    "    os.makedirs(directorio_salida)\n",
    "\n",
    "# Calcular estadísticas\n",
    "estadisticas = calcular_estadisticas(df_corregido)\n",
    "\n",
    "# Guardar estadísticas en lista.txt\n",
    "archivo_estadisticas = os.path.join(directorio_salida, 'lista.txt')\n",
    "guardar_datos_concatenados(colecciones_datos, archivo_estadisticas, encoding='utf-8')\n",
    "print(f\"Colecciones de datos guardadas en: {archivo_estadisticas}\")\n",
    "\n",
    "try:\n",
    "    with open(archivo_estadisticas, 'a') as file:\n",
    "        file.write(\"\\nEstadísticas:\\n\")\n",
    "        for columna, stats in estadisticas.items():\n",
    "            file.write(f\"{columna} - Media: {stats['media']}, Varianza: {stats['varianza']}, Moda: {stats['moda']}\\n\")\n",
    "    print(f\"Estadísticas calculadas y guardadas en: {archivo_estadisticas}\")\n",
    "except Exception as e:\n",
    "    print(f\"Error al guardar las estadísticas en {archivo_estadisticas}: {e}\")\n",
    "\n",
    "# Verificar el contenido del archivo lista.txt\n",
    "try:\n",
    "    with open(archivo_estadisticas, 'r') as file:\n",
    "        contenido = file.read()\n",
    "    print(\"Contenido del archivo lista.txt:\")\n",
    "    print(contenido)\n",
    "except Exception as e:\n",
    "    print(f\"Error al leer el archivo {archivo_estadisticas}: {e}\")"
   ]
  },
  {
   "cell_type": "code",
   "execution_count": null,
   "id": "d366da54-dff3-41c7-a066-31f73329d593",
   "metadata": {},
   "outputs": [],
   "source": [
    "# Introducción a la Programación Orientada a Objetos (POO)\n",
    "from scripts.clase_datos import FilaDatos\n",
    "\n",
    "# Crear objetos de la clase FilaDatos para al menos cinco filas\n",
    "objetos_datos = [FilaDatos(**fila) for _, fila in df_corregido.head(5).iterrows()]\n",
    "\n",
    "# Probar todos los métodos\n",
    "for obj in objetos_datos:\n",
    "    print(obj)\n",
    "\n",
    "# Modificar un atributo\n",
    "objetos_datos[0].modificar_atributo('some_column', 100)\n",
    "\n",
    "# Comparar objetos\n",
    "print(objetos_datos[0] == objetos_datos[1])\n",
    "\n",
    "# Sumar y restar objetos\n",
    "print(objetos_datos[0] + objetos_datos[1])\n",
    "print(objetos_datos[0] - objetos_datos[1])\n",
    "\n",
    "# Mostrar la tabla transformada en la consola de manera visual e intuitiva\n",
    "print(\"\\nTabla transformada:\")\n",
    "print(df_transpuesto.to_string(index=False))"
   ]
  }
 ],
 "metadata": {
  "kernelspec": {
   "display_name": "Python 3 (ipykernel)",
   "language": "python",
   "name": "python3"
  },
  "language_info": {
   "codemirror_mode": {
    "name": "ipython",
    "version": 3
   },
   "file_extension": ".py",
   "mimetype": "text/x-python",
   "name": "python",
   "nbconvert_exporter": "python",
   "pygments_lexer": "ipython3",
   "version": "3.12.7"
  }
 },
 "nbformat": 4,
 "nbformat_minor": 5
}
