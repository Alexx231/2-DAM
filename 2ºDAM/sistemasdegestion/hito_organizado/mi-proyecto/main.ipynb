{
 "cells": [
  {
   "cell_type": "code",
   "execution_count": 11,
   "id": "d169d4eb-e177-44aa-b0ba-d4967c1448bf",
   "metadata": {},
   "outputs": [
    {
     "name": "stdout",
     "output_type": "stream",
     "text": [
      "Descarga exitosa del archivo Excel.\n"
     ]
    },
    {
     "name": "stderr",
     "output_type": "stream",
     "text": [
      "/usr/local/python/3.12.1/lib/python3.12/site-packages/openpyxl/styles/stylesheet.py:237: UserWarning: Workbook contains no default style, apply openpyxl's default\n",
      "  warn(\"Workbook contains no default style, apply openpyxl's default\")\n"
     ]
    },
    {
     "name": "stdout",
     "output_type": "stream",
     "text": [
      "Primeras filas del DataFrame original:\n",
      "0       Índice de Producción Industrial. (Base 2021)     NaN  NaN  NaN  NaN  \\\n",
      "0                                                NaN     NaN  NaN  NaN  NaN   \n",
      "1  General y por destino económico de los bienes....     NaN  NaN  NaN  NaN   \n",
      "2                        Unidades:   Índice,   Tasas     NaN  NaN  NaN  NaN   \n",
      "3                                                NaN     NaN  NaN  NaN  NaN   \n",
      "4                                                     Índice  NaN  NaN  NaN   \n",
      "\n",
      "0  NaN  NaN  NaN  NaN  NaN  \n",
      "0  NaN  NaN  NaN  NaN  NaN  \n",
      "1  NaN  NaN  NaN  NaN  NaN  \n",
      "2  NaN  NaN  NaN  NaN  NaN  \n",
      "3  NaN  NaN  NaN  NaN  NaN  \n",
      "4  NaN  NaN  NaN  NaN  NaN  \n"
     ]
    }
   ],
   "source": [
    "import os\n",
    "import sys\n",
    "sys.path.append('..')\n",
    "import pandas as pd\n",
    "\n",
    "from scripts.extraccion_datos import *\n",
    "\n",
    "# Crear la carpeta 'data' si no existe\n",
    "directorio_salida = 'data'\n",
    "os.makedirs(directorio_salida, exist_ok=True)\n",
    "\n",
    "# Descargar el archivo Excel\n",
    "url = 'https://www.ine.es/jaxiT3/files/t/es/xlsx/60272.xlsx?nocab=1'\n",
    "ruta_salida = os.path.join(directorio_salida, 'datos_ine.xlsx')\n",
    "descargar_archivo_excel(url, ruta_salida)\n",
    "\n",
    "# Verificar que la descarga fue exitosa\n",
    "if os.path.exists(ruta_salida):\n",
    "    print(\"Descarga exitosa del archivo Excel.\")\n",
    "else:\n",
    "    print(\"Error en la descarga del archivo Excel.\")\n",
    "\n",
    "# Cargar el archivo Excel\n",
    "datos_excel = cargar_archivo_excel(ruta_salida)\n",
    "\n",
    "# Leer la hoja de datos\n",
    "nombre_hoja = datos_excel.sheet_names[0]\n",
    "df = leer_hoja_excel(datos_excel, nombre_hoja)\n",
    "\n",
    "# Guardar el DataFrame original con codificación UTF-8\n",
    "ruta_salida_original = os.path.join(directorio_salida, 'datos_ine_original.xlsx')\n",
    "df.to_excel(ruta_salida_original, index=False)\n",
    "\n",
    "# Mostrar las primeras filas y columnas relevantes del DataFrame\n",
    "print(\"Primeras filas del DataFrame original:\")\n",
    "print(df.iloc[:5, :10])  # Mostrar las primeras 5 filas y 10 columnas"
   ]
  },
  {
   "cell_type": "code",
   "execution_count": 13,
   "id": "3de0f311-9bb7-4338-93a3-fba267bd4b77",
   "metadata": {},
   "outputs": [
    {
     "name": "stdout",
     "output_type": "stream",
     "text": [
      "Iniciando la limpieza de datos...\n",
      "Datos limpiados y guardados en: data/datos_ine_limpio.xlsx\n",
      "Datos con NaN reemplazados por 0 y guardados en: data/datos_ine_sin_nan.xlsx\n",
      "Datos incorrectos limpiados y guardados en: data/datos_ine_corregido.xlsx\n"
     ]
    },
    {
     "ename": "NameError",
     "evalue": "name 'eliminar_filas_invalidas' is not defined",
     "output_type": "error",
     "traceback": [
      "\u001b[0;31m---------------------------------------------------------------------------\u001b[0m",
      "\u001b[0;31mNameError\u001b[0m                                 Traceback (most recent call last)",
      "Cell \u001b[0;32mIn[13], line 24\u001b[0m\n\u001b[1;32m     21\u001b[0m \u001b[38;5;28mprint\u001b[39m(\u001b[38;5;124mf\u001b[39m\u001b[38;5;124m\"\u001b[39m\u001b[38;5;124mDatos incorrectos limpiados y guardados en: \u001b[39m\u001b[38;5;132;01m{\u001b[39;00marchivo_corregido\u001b[38;5;132;01m}\u001b[39;00m\u001b[38;5;124m\"\u001b[39m)\n\u001b[1;32m     23\u001b[0m \u001b[38;5;66;03m# Eliminar filas con 0, NaN y texto\u001b[39;00m\n\u001b[0;32m---> 24\u001b[0m df_final \u001b[38;5;241m=\u001b[39m \u001b[43meliminar_filas_invalidas\u001b[49m(df_corregido)\n\u001b[1;32m     25\u001b[0m archivo_final \u001b[38;5;241m=\u001b[39m os\u001b[38;5;241m.\u001b[39mpath\u001b[38;5;241m.\u001b[39mjoin(directorio_salida, \u001b[38;5;124m'\u001b[39m\u001b[38;5;124mdatos_ine_final.xlsx\u001b[39m\u001b[38;5;124m'\u001b[39m)\n\u001b[1;32m     26\u001b[0m df_final\u001b[38;5;241m.\u001b[39mto_excel(archivo_final, index\u001b[38;5;241m=\u001b[39m\u001b[38;5;28;01mFalse\u001b[39;00m)\n",
      "\u001b[0;31mNameError\u001b[0m: name 'eliminar_filas_invalidas' is not defined"
     ]
    }
   ],
   "source": [
    "print(\"Iniciando la limpieza de datos...\") \n",
    "\n",
    "from scripts.limpieza_datos import limpiar_dataframe, reemplazar_nan_por_cero, limpiar_datos_incorrectos, eliminar_filas_invalidas\n",
    "\n",
    "# Limpiar el DataFrame\n",
    "df_limpio = limpiar_dataframe(df)\n",
    "archivo_limpio = os.path.join(directorio_salida, 'datos_ine_limpio.xlsx')\n",
    "df_limpio.to_excel(archivo_limpio, index=False)\n",
    "print(f\"Datos limpiados y guardados en: {archivo_limpio}\")\n",
    "\n",
    "# Reemplazar NaN por 0\n",
    "df_sin_nan = reemplazar_nan_por_cero(df_limpio)\n",
    "archivo_sin_nan = os.path.join(directorio_salida, 'datos_ine_sin_nan.xlsx')\n",
    "df_sin_nan.to_excel(archivo_sin_nan, index=False)\n",
    "print(f\"Datos con NaN reemplazados por 0 y guardados en: {archivo_sin_nan}\")\n",
    "\n",
    "# Limpiar datos incorrectos\n",
    "df_corregido = limpiar_datos_incorrectos(df_sin_nan)\n",
    "archivo_corregido = os.path.join(directorio_salida, 'datos_ine_corregido.xlsx')\n",
    "df_corregido.to_excel(archivo_corregido, index=False)\n",
    "print(f\"Datos incorrectos limpiados y guardados en: {archivo_corregido}\")\n",
    "\n",
    "# Eliminar filas con 0, NaN y texto\n",
    "df_final = eliminar_filas_invalidas(df_corregido)\n",
    "archivo_final = os.path.join(directorio_salida, 'datos_ine_final.xlsx')\n",
    "df_final.to_excel(archivo_final, index=False)\n",
    "print(f\"Datos finales guardados en: {archivo_final}\")"
   ]
  },
  {
   "cell_type": "code",
   "execution_count": 5,
   "id": "f350c184-77c9-4cf6-b16d-cdc269126573",
   "metadata": {},
   "outputs": [
    {
     "name": "stdout",
     "output_type": "stream",
     "text": [
      "Datos transformados y guardados en: data/datos_ine_transpuesto.xlsx\n",
      "Colecciones de datos extraídas correctamente.\n"
     ]
    }
   ],
   "source": [
    "# Función para transponer el DataFrame\n",
    "def transponer_dataframe(df):\n",
    "    return df.transpose()\n",
    "\n",
    "# Transponer el DataFrame\n",
    "df_transpuesto = transponer_dataframe(df_final)\n",
    "archivo_transpuesto = os.path.join(directorio_salida, 'datos_ine_transpuesto.xlsx')\n",
    "df_transpuesto.to_excel(archivo_transpuesto, index=False)\n",
    "print(f\"Datos transpuestos y guardados en: {archivo_transpuesto}\")\n",
    "\n",
    "# Extraer colecciones de datos\n",
    "colecciones_datos = [df_transpuesto.iloc[i].tolist() for i in range(len(df_transpuesto))]\n",
    "print(\"Colecciones de datos extraídas correctamente.\")"
   ]
  },
  {
   "cell_type": "code",
   "execution_count": 10,
   "id": "abac2589-9d23-43eb-b289-fc02b0165c59",
   "metadata": {},
   "outputs": [
    {
     "name": "stdout",
     "output_type": "stream",
     "text": [
      "Elemento en índice 0 no es iterable: Índice de Producción Industrial. (Base 2021)\n",
      "Elemento en índice 1 no es iterable: nan\n"
     ]
    },
    {
     "ename": "TypeError",
     "evalue": "'float' object is not iterable",
     "output_type": "error",
     "traceback": [
      "\u001b[0;31m---------------------------------------------------------------------------\u001b[0m",
      "\u001b[0;31mTypeError\u001b[0m                                 Traceback (most recent call last)",
      "Cell \u001b[0;32mIn[10], line 17\u001b[0m\n\u001b[1;32m     15\u001b[0m \u001b[38;5;66;03m# Guardar las colecciones de datos en un archivo de texto con codificación UTF-8\u001b[39;00m\n\u001b[1;32m     16\u001b[0m archivo_lista \u001b[38;5;241m=\u001b[39m os\u001b[38;5;241m.\u001b[39mpath\u001b[38;5;241m.\u001b[39mjoin(directorio_salida, \u001b[38;5;124m'\u001b[39m\u001b[38;5;124mlista.txt\u001b[39m\u001b[38;5;124m'\u001b[39m)\n\u001b[0;32m---> 17\u001b[0m \u001b[43mguardar_datos_concatenados\u001b[49m\u001b[43m(\u001b[49m\u001b[43mcolecciones_datos\u001b[49m\u001b[43m,\u001b[49m\u001b[43m \u001b[49m\u001b[43marchivo_lista\u001b[49m\u001b[43m)\u001b[49m\n\u001b[1;32m     18\u001b[0m \u001b[38;5;28mprint\u001b[39m(\u001b[38;5;124mf\u001b[39m\u001b[38;5;124m\"\u001b[39m\u001b[38;5;124mColecciones de datos guardadas en: \u001b[39m\u001b[38;5;132;01m{\u001b[39;00marchivo_lista\u001b[38;5;132;01m}\u001b[39;00m\u001b[38;5;124m\"\u001b[39m)\n",
      "File \u001b[0;32m/workspaces/2-DAM/2ºDAM/sistemasdegestion/hito_organizado/mi-proyecto/scripts/operaciones.py:6\u001b[0m, in \u001b[0;36mguardar_datos_concatenados\u001b[0;34m(colecciones_datos, archivo_salida, encoding)\u001b[0m\n\u001b[1;32m      4\u001b[0m \u001b[38;5;28;01mwith\u001b[39;00m \u001b[38;5;28mopen\u001b[39m(archivo_salida, \u001b[38;5;124m'\u001b[39m\u001b[38;5;124mw\u001b[39m\u001b[38;5;124m'\u001b[39m, encoding\u001b[38;5;241m=\u001b[39mencoding) \u001b[38;5;28;01mas\u001b[39;00m file:\n\u001b[1;32m      5\u001b[0m     \u001b[38;5;28;01mfor\u001b[39;00m coleccion \u001b[38;5;129;01min\u001b[39;00m colecciones_datos:\n\u001b[0;32m----> 6\u001b[0m \u001b[43m        \u001b[49m\u001b[38;5;28;43;01mfor\u001b[39;49;00m\u001b[43m \u001b[49m\u001b[43mdato\u001b[49m\u001b[43m \u001b[49m\u001b[38;5;129;43;01min\u001b[39;49;00m\u001b[43m \u001b[49m\u001b[43mcoleccion\u001b[49m\u001b[43m:\u001b[49m\n\u001b[1;32m      7\u001b[0m \u001b[43m            \u001b[49m\u001b[43mfile\u001b[49m\u001b[38;5;241;43m.\u001b[39;49m\u001b[43mwrite\u001b[49m\u001b[43m(\u001b[49m\u001b[38;5;124;43mf\u001b[39;49m\u001b[38;5;124;43m\"\u001b[39;49m\u001b[38;5;132;43;01m{\u001b[39;49;00m\u001b[43mdato\u001b[49m\u001b[38;5;132;43;01m}\u001b[39;49;00m\u001b[38;5;130;43;01m\\n\u001b[39;49;00m\u001b[38;5;124;43m\"\u001b[39;49m\u001b[43m)\u001b[49m\n",
      "\u001b[0;31mTypeError\u001b[0m: 'float' object is not iterable"
     ]
    }
   ],
   "source": [
    "import os\n",
    "\n",
    "# Importar la función guardar_datos_concatenados desde el archivo correspondiente\n",
    "from scripts.operaciones import guardar_datos_concatenados\n",
    "\n",
    "# Asegurarse de que el directorio de salida existe\n",
    "directorio_salida = 'data'\n",
    "if not os.path.exists(directorio_salida):\n",
    "    os.makedirs(directorio_salida)\n",
    "\n",
    "# Guardar las colecciones de datos en un archivo de texto con codificación UTF-8\n",
    "archivo_lista = os.path.join(directorio_salida, 'lista.txt')\n",
    "guardar_datos_concatenados(colecciones_datos, archivo_lista)\n",
    "print(f\"Colecciones de datos guardadas en: {archivo_lista}\")"
   ]
  },
  {
   "cell_type": "code",
   "execution_count": null,
   "id": "a0725770-51e2-4bfe-8610-891e0fc3f176",
   "metadata": {},
   "outputs": [],
   "source": [
    "import os\n",
    "import pandas as pd\n",
    "from scripts.estadisticas_datos import calcular_estadisticas\n",
    "\n",
    "# Asegurarse de que el directorio de salida existe\n",
    "directorio_salida = 'data'\n",
    "if not os.path.exists(directorio_salida):\n",
    "    os.makedirs(directorio_salida)\n",
    "\n",
    "# Calcular estadísticas\n",
    "estadisticas = calcular_estadisticas(df_corregido)\n",
    "\n",
    "# Guardar estadísticas en lista.txt\n",
    "archivo_estadisticas = os.path.join(directorio_salida, 'lista.txt')\n",
    "guardar_datos_concatenados(colecciones_datos, archivo_estadisticas, encoding='utf-8')\n",
    "print(f\"Colecciones de datos guardadas en: {archivo_estadisticas}\")\n",
    "\n",
    "try:\n",
    "    with open(archivo_estadisticas, 'a') as file:\n",
    "        file.write(\"\\nEstadísticas:\\n\")\n",
    "        for columna, stats in estadisticas.items():\n",
    "            file.write(f\"{columna} - Media: {stats['media']}, Varianza: {stats['varianza']}, Moda: {stats['moda']}\\n\")\n",
    "    print(f\"Estadísticas calculadas y guardadas en: {archivo_estadisticas}\")\n",
    "except Exception as e:\n",
    "    print(f\"Error al guardar las estadísticas en {archivo_estadisticas}: {e}\")\n",
    "\n",
    "# Verificar el contenido del archivo lista.txt\n",
    "try:\n",
    "    with open(archivo_estadisticas, 'r') as file:\n",
    "        contenido = file.read()\n",
    "    print(\"Contenido del archivo lista.txt:\")\n",
    "    print(contenido)\n",
    "except Exception as e:\n",
    "    print(f\"Error al leer el archivo {archivo_estadisticas}: {e}\")"
   ]
  },
  {
   "cell_type": "code",
   "execution_count": null,
   "id": "d366da54-dff3-41c7-a066-31f73329d593",
   "metadata": {},
   "outputs": [],
   "source": [
    "class DataRow:\n",
    "    def __init__(self, **kwargs):\n",
    "        self.__dict__.update(kwargs)\n",
    "    \n",
    "    def __str__(self):\n",
    "        return ', '.join(f\"{key}: {value}\" for key, value in self.__dict__.items())\n",
    "    \n",
    "    def modificar_valor(self, atributo, valor):\n",
    "        if atributo in self.__dict__:\n",
    "            self.__dict__[atributo] = valor\n",
    "    \n",
    "    def __eq__(self, other):\n",
    "        return self.__dict__.get('columna2', None) == other.__dict__.get('columna2', None)\n",
    "    \n",
    "    def __lt__(self, other):\n",
    "        return self.__dict__.get('columna2', None) < other.__dict__.get('columna2', None)\n",
    "    \n",
    "    def __add__(self, other):\n",
    "        return {key: self.__dict__[key] + other.__dict__[key] for key in self.__dict__}\n",
    "    \n",
    "    def __sub__(self, other):\n",
    "        return {key: self.__dict__[key] - other.__dict__[key] for key in self.__dict__}\n",
    "\n",
    "# Crear objetos de la clase para al menos cinco filas\n",
    "filas = [DataRow(**df_final.iloc[i].to_dict()) for i in range(5)]\n",
    "\n",
    "# Probar métodos\n",
    "for fila in filas:\n",
    "    print(fila)\n",
    "\n",
    "# Modificar valores\n",
    "filas[0].modificar_valor('columna1', 999)\n",
    "print(f\"Fila modificada: {filas[0]}\")\n",
    "\n",
    "# Comparar objetos\n",
    "print(f\"Comparación: {filas[0] == filas[1]}\")\n",
    "print(f\"Suma: {filas[0] + filas[1]}\")\n",
    "print(f\"Resta: {filas[0] - filas[1]}\")"
   ]
  }
 ],
 "metadata": {
  "kernelspec": {
   "display_name": "Python 3",
   "language": "python",
   "name": "python3"
  },
  "language_info": {
   "codemirror_mode": {
    "name": "ipython",
    "version": 3
   },
   "file_extension": ".py",
   "mimetype": "text/x-python",
   "name": "python",
   "nbconvert_exporter": "python",
   "pygments_lexer": "ipython3",
   "version": "3.12.1"
  }
 },
 "nbformat": 4,
 "nbformat_minor": 5
}
