{
 "cells": [
  {
   "cell_type": "code",
   "execution_count": 1,
   "id": "1a44197e-3090-4963-9b80-c79c7f2a368f",
   "metadata": {},
   "outputs": [
    {
     "name": "stdout",
     "output_type": "stream",
     "text": [
      "La variable entero es de tipo int y su valor es 5\n"
     ]
    }
   ],
   "source": [
    "# Ejercicio 1\n",
    "entero = 5\n",
    "decimal = 4.33\n",
    "cadena = \"Hola Mundo\"\n",
    "\n",
    "print(f\"La variable entero es de tipo int y su valor es {entero}\")"
   ]
  },
  {
   "cell_type": "code",
   "execution_count": 5,
   "id": "c4942f2a-7e17-463c-8e26-add3a3628654",
   "metadata": {},
   "outputs": [
    {
     "name": "stdin",
     "output_type": "stream",
     "text": [
      "Introduce tu nombre:  Julian\n",
      "Introduce tu edad:  23\n",
      "Introduce tu altura:  1.80\n"
     ]
    },
    {
     "name": "stdout",
     "output_type": "stream",
     "text": [
      "Hola, Julian. Tienes 23 años y mides 1.80 metros.\n"
     ]
    }
   ],
   "source": [
    "# Ejercicio 2\n",
    "\n",
    "nombre = input(\"Introduce tu nombre: \")\n",
    "edad = input(\"Introduce tu edad: \")\n",
    "altura = input(\"Introduce tu altura: \")\n",
    "\n",
    "print(f\"Hola, {nombre}. Tienes {edad} años y mides {altura} metros.\")"
   ]
  },
  {
   "cell_type": "code",
   "execution_count": 9,
   "id": "5df0ec01-63d0-46d4-87af-386510a8984f",
   "metadata": {},
   "outputs": [
    {
     "name": "stdin",
     "output_type": "stream",
     "text": [
      "Dame el primer numero:  5\n",
      "Dame el segundo numero:  4\n"
     ]
    },
    {
     "name": "stdout",
     "output_type": "stream",
     "text": [
      "La suma de 5 y 4 es 9\n",
      "La resta de 5 y 4 es 1\n",
      "La multiplicación de 5 y 4 es 20\n",
      "La division de 5 y 4 es 1.25\n"
     ]
    }
   ],
   "source": [
    "# Ejercicio 3\n",
    "\n",
    "num1 = int(input(\"Dame el primer numero: \"))\n",
    "num2 = int(input(\"Dame el segundo numero: \"))\n",
    "\n",
    "resultado = (num1 + num2)\n",
    "\n",
    "print(f\"La suma de {num1} y {num2} es {resultado}\")\n",
    "\n",
    "resultado = (num1 - num2)\n",
    "\n",
    "print(f\"La resta de {num1} y {num2} es {resultado}\")\n",
    "\n",
    "resultado = (num1 * num2)\n",
    "\n",
    "print(f\"La multiplicación de {num1} y {num2} es {resultado}\")\n",
    "\n",
    "resultado = (num1/num2)\n",
    "\n",
    "print(f\"La division de {num1} y {num2} es {resultado}\")"
   ]
  },
  {
   "cell_type": "code",
   "execution_count": 13,
   "id": "dc28eb3e-fd07-43fc-8963-7dd0d15d1089",
   "metadata": {},
   "outputs": [
    {
     "name": "stdin",
     "output_type": "stream",
     "text": [
      "Cual es tu edad?:  23\n",
      "Cual es tu altura(metros)?:  1.97\n"
     ]
    },
    {
     "name": "stdout",
     "output_type": "stream",
     "text": [
      "En 5 años tendrás 28 años y tu altura es 1.97 metros.\n"
     ]
    }
   ],
   "source": [
    "# Ejercicio 4\n",
    "\n",
    "edad = int(input(\"Cual es tu edad?: \"))\n",
    "altura = float(input(\"Cual es tu altura(metros)?: \"))\n",
    "\n",
    "edad_futura = edad + 5\n",
    "\n",
    "print(f\"En 5 años tendrás {edad_futura} años y tu altura es {altura} metros.\")"
   ]
  },
  {
   "cell_type": "code",
   "execution_count": 15,
   "id": "91a495b3-89d7-4ca3-9886-1dd017c430cd",
   "metadata": {},
   "outputs": [
    {
     "name": "stdin",
     "output_type": "stream",
     "text": [
      "Dame el primer numero:  5\n",
      "Dame el segundo numero:  4\n"
     ]
    },
    {
     "name": "stdout",
     "output_type": "stream",
     "text": [
      "True\n",
      "False\n",
      "True\n",
      "False\n",
      "False\n",
      "True\n"
     ]
    }
   ],
   "source": [
    "# Ejercicio 5\n",
    "\n",
    "num1 = int(input(\"Dame el primer numero: \"))\n",
    "num2 = int(input(\"Dame el segundo numero: \"))\n",
    "\n",
    "print(num1 > num2)\n",
    "\n",
    "print(num1 < num2)\n",
    "\n",
    "print(num1 >= num2)\n",
    "\n",
    "print(num1 <= num2)\n",
    "\n",
    "print(num1 == num2)\n",
    "\n",
    "print(num1 != num2)"
   ]
  },
  {
   "cell_type": "code",
   "execution_count": 19,
   "id": "07620910-452b-49e9-b1a9-ac781bce76ee",
   "metadata": {},
   "outputs": [
    {
     "name": "stdin",
     "output_type": "stream",
     "text": [
      "Dame el primer numero:  5\n",
      "Dame el segundo numero:  4\n",
      "Dame el segundo numero:  3\n"
     ]
    },
    {
     "name": "stdout",
     "output_type": "stream",
     "text": [
      "True\n",
      "True\n"
     ]
    }
   ],
   "source": [
    "# Ejercicio 6\n",
    "\n",
    "num1 = int(input(\"Dame el primer numero: \"))\n",
    "num2 = int(input(\"Dame el segundo numero: \"))\n",
    "num3 = int(input(\"Dame el segundo numero: \"))\n",
    "\n",
    "print(num1 > num2 and num1 > num3)\n",
    "\n",
    "print(num1 > num2 and num1 > num3)"
   ]
  },
  {
   "cell_type": "code",
   "execution_count": 23,
   "id": "57eb2c73-83a3-472c-8486-f61903bca092",
   "metadata": {},
   "outputs": [
    {
     "name": "stdin",
     "output_type": "stream",
     "text": [
      "Dame el primer numero:  2\n",
      "Dame el segundo numero:  2\n"
     ]
    },
    {
     "name": "stdout",
     "output_type": "stream",
     "text": [
      "La división de 2 entre 2 es 1.0\n",
      "¿El segundo número es mayor que 10? False\n"
     ]
    }
   ],
   "source": [
    "# Ejercicio 7\n",
    "\n",
    "num1 = int(input(\"Dame el primer numero: \"))\n",
    "num2 = int(input(\"Dame el segundo numero: \"))\n",
    "\n",
    "division = num1 / num2\n",
    "print(f\"La división de {num1} entre {num2} es {division}\")\n",
    "\n",
    "mayorquediez = num2 > 10\n",
    "print(f\"¿El segundo número es mayor que 10? {mayorquediez}\")"
   ]
  },
  {
   "cell_type": "code",
   "execution_count": 29,
   "id": "aa5e0f4d-4bef-4887-9b8a-45061c5a1b2e",
   "metadata": {},
   "outputs": [
    {
     "name": "stdin",
     "output_type": "stream",
     "text": [
      "Dime el nombre:  Carlos\n",
      "Dame la primera nota:  3\n",
      "Dame la segunda nota:  9\n",
      "Dame la tercera nota:  9\n"
     ]
    },
    {
     "name": "stdout",
     "output_type": "stream",
     "text": [
      "Felicidades Carlos, has aprobado con una media de 7.0\n"
     ]
    }
   ],
   "source": [
    "# Ejercicio 8\n",
    "\n",
    "nombre = input(\"Dime el nombre: \")\n",
    "nota1 = int(input(\"Dame la primera nota: \"))\n",
    "nota2 = int(input(\"Dame la segunda nota: \"))\n",
    "nota3 = int(input(\"Dame la tercera nota: \"))\n",
    "\n",
    "notas = [nota1, nota2, nota3]\n",
    "\n",
    "media = sum(notas) / len(notas)\n",
    "\n",
    "if media >= 6:\n",
    "    print(f\"Felicidades {nombre}, has aprobado con una media de {media}\")\n",
    "else:\n",
    "    print(f\"Lo siento {nombre}, has suspendido con una media de {media}\")"
   ]
  },
  {
   "cell_type": "code",
   "execution_count": 39,
   "id": "a4117d42-a698-4df8-8420-35f7cb7401c6",
   "metadata": {},
   "outputs": [
    {
     "ename": "SyntaxError",
     "evalue": "invalid syntax (3676460524.py, line 5)",
     "output_type": "error",
     "traceback": [
      "\u001b[1;36m  Cell \u001b[1;32mIn[39], line 5\u001b[1;36m\u001b[0m\n\u001b[1;33m    Los operadores relacionales y lógicos son fundamentales en la programación porque permiten tomar decisiones basadas en condiciones.\u001b[0m\n\u001b[1;37m        ^\u001b[0m\n\u001b[1;31mSyntaxError\u001b[0m\u001b[1;31m:\u001b[0m invalid syntax\n"
     ]
    }
   ],
   "source": [
    "# Ejercicio 9\n",
    "\n",
    "# RESPUESTA AI\n",
    "\n",
    "Los operadores relacionales y lógicos son fundamentales en la programación porque permiten tomar decisiones basadas en condiciones.\n",
    "Estos operadores son esenciales para controlar el flujo del programa, \n",
    "realizar comparaciones y ejecutar diferentes bloques de código según las condiciones evaluadas.\n",
    "\n",
    "Caso Práctico: Sistema de Autenticación\n",
    "Imagina que estás desarrollando un sistema de autenticación para una aplicación web. \n",
    "En este sistema, necesitas verificar si un usuario tiene acceso a ciertas funcionalidades basadas en su rol y estado de cuenta. \n",
    "Aquí es donde los operadores relacionales y lógicos juegan un papel crucial.\n",
    "\n",
    "Ejemplo de Código\n",
    "\n",
    "# Datos de ejemplo\n",
    "usuario = {\n",
    "    \"nombre\": \"Juan\",\n",
    "    \"rol\": \"admin\",\n",
    "    \"cuenta_activa\": True\n",
    "}\n",
    "\n",
    "# Verificar si el usuario tiene acceso a una funcionalidad específica\n",
    "if usuario[\"rol\"] == \"admin\" and usuario[\"cuenta_activa\"]:\n",
    "    print(f\"Acceso concedido a {usuario['nombre']}.\")\n",
    "else:\n",
    "    print(f\"Acceso denegado a {usuario['nombre']}.\")\n",
    "\n",
    "Explicación del Caso Práctico\n",
    "\n",
    "Operadores Relacionales:\n",
    "\n",
    "usuario[\"rol\"] == \"admin\": Este operador relacional verifica si el rol del usuario es \"admin\".\n",
    "\n",
    "usuario[\"cuenta_activa\"]: Este operador relacional verifica si la cuenta del usuario está activa (es True).\n",
    "\n",
    "Operadores Lógicos:\n",
    "\n",
    "and: Este operador lógico combina las dos condiciones anteriores.\n",
    "Ambas condiciones deben ser verdaderas para que el bloque de código dentro del if se ejecute.\n",
    "\n",
    "Beneficios de Usar Operadores Combinados\n",
    "\n",
    "Control Preciso del Flujo del Programa: Permiten ejecutar diferentes bloques de código basados en múltiples condiciones.\n",
    "    \n",
    "Mejora de la Seguridad: En el caso del sistema de autenticación, \n",
    "aseguran que solo los usuarios con el rol adecuado y una cuenta activa puedan acceder a ciertas funcionalidades.\n",
    "    \n",
    "Flexibilidad y Escalabilidad: Facilitan la adición de más condiciones en el futuro \n",
    "sin necesidad de reescribir grandes partes del código.\n",
    "\n",
    "#RESPUESTA ALUMNO\n",
    "\n",
    "Los operadores relacionales y logicos son sumamente importantes en la programacion \n",
    "debido a que permiten tomar decisiones basadas en condiciones\n",
    "con los que podremos realizar comparaciones o ejecutar bloques de programas en funcion de algunas condiciones.\n",
    "Combinarlos permite crear condiciones complejas que mejoran la funcionalidad y seguridad del software.\n",
    "\n",
    "#Ejemplo en ejercicio\n",
    "\n",
    "num1 = int(input(\"Dame el primer numero: \"))\n",
    "num2 = int(input(\"Dame el segundo numero: \"))\n",
    "num3 = int(input(\"Dame el segundo numero: \"))\n",
    "\n",
    "print(num1 > num2 and num1 > num3)\n",
    "\n",
    "print(num1 > num2 and num1 > num3)\n",
    "\n",
    "En este ejercicio se solicita que si se puede COMPROBAR si el numero 1 es mayor que el numero 2 y que el numero 3.\n",
    "Gracias a los operadores podemos combinar dichas condiciones y realizar la operacion en una sola linea como se ve\n",
    "en el ejercicio, ya que, el and nos confirma con un TRUE si ambas condiciones son verdaderas.\n"
   ]
  },
  {
   "cell_type": "code",
   "execution_count": null,
   "id": "d4e0b711-0352-4e9b-b5da-09e782b531b1",
   "metadata": {},
   "outputs": [],
   "source": [
    "#RESPUESTA AI\n",
    "\n",
    "Importancia de la Conversión de Tipos (Cast)\n",
    "\n",
    "La conversión de tipos, o casting, es necesaria en situaciones donde se requiere que los datos sean de un tipo específico \n",
    "para realizar ciertas operaciones. Sin la conversión adecuada, el programa puede generar errores o comportarse de manera inesperada.\n",
    "\n",
    "Situaciones Comunes donde la Conversión de Tipos es Necesaria\n",
    "\n",
    "Operaciones Matemáticas:\n",
    "\n",
    "Cuando se realizan operaciones matemáticas entre diferentes tipos de datos, como enteros y flotantes,\n",
    "es importante convertir los tipos para evitar errores.\n",
    "    \n",
    "Entrada de Datos:\n",
    "\n",
    "Los datos ingresados a través de input() en Python son de tipo str (cadena de texto).\n",
    "Si se necesitan realizar operaciones matemáticas con estos datos, es necesario convertirlos a int o float.\n",
    "    \n",
    "Comparaciones:\n",
    "\n",
    "Para realizar comparaciones precisas entre diferentes tipos de datos, es necesario convertirlos al mismo tipo.\n",
    "    \n",
    "Ejemplos Prácticos\n",
    "    \n",
    "Ejemplo 1: Operaciones Matemáticas\n",
    "\n",
    "# Sin conversión de tipos\n",
    "num1 = input(\"Dame el primer número: \")  # '5'\n",
    "num2 = input(\"Dame el segundo número: \")  # '3'\n",
    "\n",
    "# Intentar sumar cadenas generará un error lógico\n",
    "resultado = num1 + num2\n",
    "print(f\"El resultado es {resultado}\")  # Esto imprimirá '53' en lugar de 8\n",
    "\n",
    "# Con conversión de tipos\n",
    "num1 = int(num1)\n",
    "num2 = int(num2)\n",
    "\n",
    "resultado = num1 + num2\n",
    "print(f\"El resultado es {resultado}\")  # Esto imprimirá 8\n",
    "    \n",
    "Ejemplo 2: Entrada de Datos\n",
    "\n",
    "# Sin conversión de tipos\n",
    "edad = input(\"Introduce tu edad: \")  # '25'\n",
    "años_futuros = 5\n",
    "\n",
    "# Intentar sumar cadena y entero generará un error de tipo\n",
    "edad_futura = edad + años_futuros\n",
    "print(f\"En {años_futuros} años tendrás {edad_futura} años\")  # Esto generará un TypeError\n",
    "\n",
    "# Con conversión de tipos\n",
    "edad = int(edad)\n",
    "\n",
    "edad_futura = edad + años_futuros\n",
    "print(f\"En {años_futuros} años tendrás {edad_futura} años\")  # Esto imprimirá 30\n",
    "    \n",
    "Ejemplo 3: Comparaciones\n",
    "\n",
    "# Sin conversión de tipos\n",
    "num1 = 5\n",
    "num2 = \"5\"\n",
    "\n",
    "# Intentar comparar entero y cadena generará un error lógico\n",
    "if num1 == num2:\n",
    "    print(\"Son iguales\")  # Esto no se imprimirá aunque los valores sean iguales\n",
    "\n",
    "# Con conversión de tipos\n",
    "num2 = int(num2)\n",
    "\n",
    "if num1 == num2:\n",
    "    print(\"Son iguales\")  # Esto imprimirá \"Son iguales\"\n",
    "    \n",
    "#MI RESPUESTA\n",
    "\n",
    "La conversión de tipos es esencial para asegurar que los datos sean del tipo adecuado para las operaciones a realizar \n",
    "en nuestro programa. Sin ella, el programa puede generar errores de tipo o funcionar de manera extraña."
   ]
  }
 ],
 "metadata": {
  "kernelspec": {
   "display_name": "Python 3 (ipykernel)",
   "language": "python",
   "name": "python3"
  },
  "language_info": {
   "codemirror_mode": {
    "name": "ipython",
    "version": 3
   },
   "file_extension": ".py",
   "mimetype": "text/x-python",
   "name": "python",
   "nbconvert_exporter": "python",
   "pygments_lexer": "ipython3",
   "version": "3.12.4"
  }
 },
 "nbformat": 4,
 "nbformat_minor": 5
}
