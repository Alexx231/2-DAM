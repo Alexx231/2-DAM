{
 "cells": [
  {
   "cell_type": "code",
   "execution_count": 2,
   "id": "3da84ee1-78a9-4961-8040-1d389a335e14",
   "metadata": {},
   "outputs": [
    {
     "name": "stdout",
     "output_type": "stream",
     "text": [
      "3.10.15 | packaged by Anaconda, Inc. | (main, Oct  3 2024, 07:22:19) [MSC v.1929 64 bit (AMD64)]\n",
      "C:\\Users\\ernes\\anaconda3\\envs\\ec_ud6\\python.exe\n"
     ]
    }
   ],
   "source": [
    "import sys\n",
    "print(sys.version)\n",
    "print(sys.executable)"
   ]
  },
  {
   "cell_type": "code",
   "execution_count": null,
   "id": "f73b8947-c92c-46d1-916e-29cc217a0a22",
   "metadata": {},
   "outputs": [],
   "source": [
    "# UD6_Ejercicio: Gestión de inventario y facturación"
   ]
  },
  {
   "cell_type": "code",
   "execution_count": null,
   "id": "7780315f-c824-4926-8682-65779a9e451d",
   "metadata": {},
   "outputs": [],
   "source": [
    "## Paso 1: crear el fichero de inventario"
   ]
  },
  {
   "cell_type": "code",
   "execution_count": 3,
   "id": "6053d1e8-2564-4edc-91c3-b11e010e291d",
   "metadata": {},
   "outputs": [
    {
     "name": "stdout",
     "output_type": "stream",
     "text": [
      "Fichero 'inventario.txt' creado con éxito\n"
     ]
    }
   ],
   "source": [
    "with open(\"inventario.txt\", \"w\") as fichero:\n",
    "    productos = [\"manzanas, 1.5, 10\", \"naranjas, 2.0, 5\", \"plátanos, 1.2, 20\", \"peras, 2.5, 0\"]\n",
    "    for producto in productos:\n",
    "        fichero.write(producto + \"\\n\")\n",
    "print(\"Fichero 'inventario.txt' creado con éxito\")"
   ]
  },
  {
   "cell_type": "code",
   "execution_count": null,
   "id": "78ed7b6b-0823-441c-a047-69df0fe36c70",
   "metadata": {},
   "outputs": [],
   "source": [
    "## Paso 2: lee el fichero de texto e importa los datos a un diccionario; genera un aviso si hay productos sin stock"
   ]
  },
  {
   "cell_type": "code",
   "execution_count": 4,
   "id": "afdd3823-e603-4bd3-bda8-b77bc2ac360e",
   "metadata": {},
   "outputs": [
    {
     "name": "stdout",
     "output_type": "stream",
     "text": [
      "Inventario cargado desde 'inventario.txt': \n",
      "{'manzanas': {'precio': 1.5, 'cantidad': 10}, 'naranjas': {'precio': 2.0, 'cantidad': 5}, 'plátanos': {'precio': 1.2, 'cantidad': 20}, 'peras': {'precio': 2.5, 'cantidad': 0}} \n",
      "\n"
     ]
    }
   ],
   "source": [
    "inventario = {}\n",
    "with open(\"inventario.txt\", \"r\") as fichero:\n",
    "    for linea in fichero:\n",
    "        nombre, precio, cantidad = linea.strip().split(\",\")\n",
    "        inventario[nombre] = {\"precio\": float(precio), \"cantidad\": int(cantidad)}\n",
    "print(\"Inventario cargado desde 'inventario.txt': \")\n",
    "print(inventario, \"\\n\")\n",
    "\n",
    "# Verifica si el diccionario incluye productos sin existencias\n",
    "for producto, detalles in inventario.items():\n",
    "    if detalles[\"cantidad\"] == 0:\n",
    "        print(f\"¡AVISO!: El producto {producto} no tiene existencias y necesita reposición.\")"
   ]
  },
  {
   "cell_type": "code",
   "execution_count": null,
   "id": "1637d21e-bda9-4a92-a0eb-02b35b97bb4f",
   "metadata": {},
   "outputs": [],
   "source": [
    "## Paso 3: construye un bucle que soporte la realización de ventas de productos del inventario"
   ]
  },
  {
   "cell_type": "code",
   "execution_count": 5,
   "id": "98fd99ab-7b9f-45a1-af9d-4af6ec602393",
   "metadata": {},
   "outputs": [
    {
     "name": "stdout",
     "output_type": "stream",
     "text": [
      "\n",
      "Productos disponibles: \n",
      "manzanas: $1.5 (Cantidad: 10)\n"
     ]
    },
    {
     "name": "stdin",
     "output_type": "stream",
     "text": [
      "\n",
      "Introduce el nombre del producto que quieres comprar (o escribe 'salir' para terminar):  salir\n"
     ]
    },
    {
     "name": "stdout",
     "output_type": "stream",
     "text": [
      "\n",
      "Productos disponibles: \n",
      "manzanas: $1.5 (Cantidad: 10)\n"
     ]
    },
    {
     "name": "stdin",
     "output_type": "stream",
     "text": [
      "\n",
      "Introduce el nombre del producto que quieres comprar (o escribe 'salir' para terminar):  peras\n"
     ]
    },
    {
     "name": "stdout",
     "output_type": "stream",
     "text": [
      "Producto no disponible o stock insuficiente.\n",
      "naranjas: $2.0 (Cantidad: 5)\n"
     ]
    },
    {
     "ename": "KeyboardInterrupt",
     "evalue": "Interrupted by user",
     "output_type": "error",
     "traceback": [
      "\u001b[1;31m---------------------------------------------------------------------------\u001b[0m",
      "\u001b[1;31mKeyboardInterrupt\u001b[0m                         Traceback (most recent call last)",
      "Cell \u001b[1;32mIn[5], line 9\u001b[0m\n\u001b[0;32m      6\u001b[0m \u001b[38;5;28mprint\u001b[39m(\u001b[38;5;124mf\u001b[39m\u001b[38;5;124m\"\u001b[39m\u001b[38;5;132;01m{\u001b[39;00mproducto\u001b[38;5;132;01m}\u001b[39;00m\u001b[38;5;124m: $\u001b[39m\u001b[38;5;132;01m{\u001b[39;00mdetalles[\u001b[38;5;124m'\u001b[39m\u001b[38;5;124mprecio\u001b[39m\u001b[38;5;124m'\u001b[39m]\u001b[38;5;132;01m}\u001b[39;00m\u001b[38;5;124m (Cantidad: \u001b[39m\u001b[38;5;132;01m{\u001b[39;00mdetalles[\u001b[38;5;124m'\u001b[39m\u001b[38;5;124mcantidad\u001b[39m\u001b[38;5;124m'\u001b[39m]\u001b[38;5;132;01m}\u001b[39;00m\u001b[38;5;124m)\u001b[39m\u001b[38;5;124m\"\u001b[39m)\n\u001b[0;32m      8\u001b[0m \u001b[38;5;66;03m# Solicitar al usuario el producto que desa comprar\u001b[39;00m\n\u001b[1;32m----> 9\u001b[0m producto_vendido \u001b[38;5;241m=\u001b[39m \u001b[38;5;28;43minput\u001b[39;49m\u001b[43m(\u001b[49m\u001b[38;5;124;43m\"\u001b[39;49m\u001b[38;5;130;43;01m\\n\u001b[39;49;00m\u001b[38;5;124;43mIntroduce el nombre del producto que quieres comprar (o escribe \u001b[39;49m\u001b[38;5;124;43m'\u001b[39;49m\u001b[38;5;124;43msalir\u001b[39;49m\u001b[38;5;124;43m'\u001b[39;49m\u001b[38;5;124;43m para terminar): \u001b[39;49m\u001b[38;5;124;43m\"\u001b[39;49m\u001b[43m)\u001b[49m\u001b[38;5;241m.\u001b[39mlower()\n\u001b[0;32m     10\u001b[0m \u001b[38;5;28;01mif\u001b[39;00m producto_vendido \u001b[38;5;241m==\u001b[39m \u001b[38;5;124m\"\u001b[39m\u001b[38;5;124msalir\u001b[39m\u001b[38;5;124m\"\u001b[39m:\n\u001b[0;32m     11\u001b[0m     \u001b[38;5;28;01mbreak\u001b[39;00m\n",
      "File \u001b[1;32m~\\anaconda3\\envs\\ec_ud6\\lib\\site-packages\\ipykernel\\kernelbase.py:1262\u001b[0m, in \u001b[0;36mKernel.raw_input\u001b[1;34m(self, prompt)\u001b[0m\n\u001b[0;32m   1260\u001b[0m     msg \u001b[38;5;241m=\u001b[39m \u001b[38;5;124m\"\u001b[39m\u001b[38;5;124mraw_input was called, but this frontend does not support input requests.\u001b[39m\u001b[38;5;124m\"\u001b[39m\n\u001b[0;32m   1261\u001b[0m     \u001b[38;5;28;01mraise\u001b[39;00m StdinNotImplementedError(msg)\n\u001b[1;32m-> 1262\u001b[0m \u001b[38;5;28;01mreturn\u001b[39;00m \u001b[38;5;28;43mself\u001b[39;49m\u001b[38;5;241;43m.\u001b[39;49m\u001b[43m_input_request\u001b[49m\u001b[43m(\u001b[49m\n\u001b[0;32m   1263\u001b[0m \u001b[43m    \u001b[49m\u001b[38;5;28;43mstr\u001b[39;49m\u001b[43m(\u001b[49m\u001b[43mprompt\u001b[49m\u001b[43m)\u001b[49m\u001b[43m,\u001b[49m\n\u001b[0;32m   1264\u001b[0m \u001b[43m    \u001b[49m\u001b[38;5;28;43mself\u001b[39;49m\u001b[38;5;241;43m.\u001b[39;49m\u001b[43m_parent_ident\u001b[49m\u001b[43m[\u001b[49m\u001b[38;5;124;43m\"\u001b[39;49m\u001b[38;5;124;43mshell\u001b[39;49m\u001b[38;5;124;43m\"\u001b[39;49m\u001b[43m]\u001b[49m\u001b[43m,\u001b[49m\n\u001b[0;32m   1265\u001b[0m \u001b[43m    \u001b[49m\u001b[38;5;28;43mself\u001b[39;49m\u001b[38;5;241;43m.\u001b[39;49m\u001b[43mget_parent\u001b[49m\u001b[43m(\u001b[49m\u001b[38;5;124;43m\"\u001b[39;49m\u001b[38;5;124;43mshell\u001b[39;49m\u001b[38;5;124;43m\"\u001b[39;49m\u001b[43m)\u001b[49m\u001b[43m,\u001b[49m\n\u001b[0;32m   1266\u001b[0m \u001b[43m    \u001b[49m\u001b[43mpassword\u001b[49m\u001b[38;5;241;43m=\u001b[39;49m\u001b[38;5;28;43;01mFalse\u001b[39;49;00m\u001b[43m,\u001b[49m\n\u001b[0;32m   1267\u001b[0m \u001b[43m\u001b[49m\u001b[43m)\u001b[49m\n",
      "File \u001b[1;32m~\\anaconda3\\envs\\ec_ud6\\lib\\site-packages\\ipykernel\\kernelbase.py:1305\u001b[0m, in \u001b[0;36mKernel._input_request\u001b[1;34m(self, prompt, ident, parent, password)\u001b[0m\n\u001b[0;32m   1302\u001b[0m \u001b[38;5;28;01mexcept\u001b[39;00m \u001b[38;5;167;01mKeyboardInterrupt\u001b[39;00m:\n\u001b[0;32m   1303\u001b[0m     \u001b[38;5;66;03m# re-raise KeyboardInterrupt, to truncate traceback\u001b[39;00m\n\u001b[0;32m   1304\u001b[0m     msg \u001b[38;5;241m=\u001b[39m \u001b[38;5;124m\"\u001b[39m\u001b[38;5;124mInterrupted by user\u001b[39m\u001b[38;5;124m\"\u001b[39m\n\u001b[1;32m-> 1305\u001b[0m     \u001b[38;5;28;01mraise\u001b[39;00m \u001b[38;5;167;01mKeyboardInterrupt\u001b[39;00m(msg) \u001b[38;5;28;01mfrom\u001b[39;00m \u001b[38;5;28;01mNone\u001b[39;00m\n\u001b[0;32m   1306\u001b[0m \u001b[38;5;28;01mexcept\u001b[39;00m \u001b[38;5;167;01mException\u001b[39;00m:\n\u001b[0;32m   1307\u001b[0m     \u001b[38;5;28mself\u001b[39m\u001b[38;5;241m.\u001b[39mlog\u001b[38;5;241m.\u001b[39mwarning(\u001b[38;5;124m\"\u001b[39m\u001b[38;5;124mInvalid Message:\u001b[39m\u001b[38;5;124m\"\u001b[39m, exc_info\u001b[38;5;241m=\u001b[39m\u001b[38;5;28;01mTrue\u001b[39;00m)\n",
      "\u001b[1;31mKeyboardInterrupt\u001b[0m: Interrupted by user"
     ]
    }
   ],
   "source": [
    "while True:\n",
    "    # Mostrar productos disponibles, con su precio y cantidad disponible\n",
    "    print(\"\\nProductos disponibles: \")\n",
    "    for producto, detalles in inventario.items():\n",
    "        # Mostrar el nombre del producto, su precio y cantidad disponible\n",
    "        print(f\"{producto}: ${detalles['precio']} (Cantidad: {detalles['cantidad']})\")\n",
    "\n",
    "    # Solicitar al usuario el producto que desa comprar\n",
    "    producto_vendido = input(\"\\nIntroduce el nombre del producto que quieres comprar (o escribe 'salir' para terminar): \").lower()\n",
    "\n",
    "    # Verificar si el usuario desea salir del menú\n",
    "    if producto_vendido == \"salir\":\n",
    "        break\n",
    "\n",
    "    # Verificar que el producto está disponible\n",
    "    if producto_vendido in inventario and inventario[producto_vendido] [\"cantidad\"] > 0:\n",
    "        # Solicitar la cantidad a comprar\n",
    "        cantidad_vendida = int(input(f\"Introduce la cantidad de {producto_vendido} a comprar: \"))\n",
    "\n",
    "        # Verificar si hay suficiente stock\n",
    "        if cantidad_vendida <= inventario[producto_vendido] [\"cantidad\"]:\n",
    "                # reducir el inventario en la cantidad vendida\n",
    "            inventario[producto_vendido][\"cantidad\"] -= cantidad_vendida\n",
    "            print(f\"Venta realizada: {cantidad_vendida} {producto_vendido} \")\n",
    "        else:\n",
    "            # mostrar mensaje si no hay suficiente stock de producto\n",
    "            print(\"Lo sentimos. No hay suficientes existencias de producto.\")\n",
    "    else:\n",
    "        # mostrar mensaje si el producto no está disponible o el stock es insuficiente\n",
    "        print(\"Producto no disponible o stock insuficiente.\")\n",
    "            "
   ]
  },
  {
   "cell_type": "code",
   "execution_count": null,
   "id": "d62b7182-22ca-406c-b64d-e7577d170be2",
   "metadata": {},
   "outputs": [],
   "source": [
    "## Paso 4: Verificar si el producto vendido se ha agotado"
   ]
  },
  {
   "cell_type": "code",
   "execution_count": 6,
   "id": "24f4dde5-47c7-4cbb-bfe7-5d3718902bb5",
   "metadata": {},
   "outputs": [
    {
     "name": "stdout",
     "output_type": "stream",
     "text": [
      "Ninguna venta ha agotado el stock de los productos disponibles.\n"
     ]
    }
   ],
   "source": [
    "if inventario[producto] [\"cantidad\"] == 0:\n",
    "    print(f\"¡AVISO!: El producto {producto} se ha agotado y necesita reposición.\")\n",
    "else:\n",
    "    print(f\"Ninguna venta ha agotado el stock de los productos disponibles.\")"
   ]
  },
  {
   "cell_type": "code",
   "execution_count": null,
   "id": "8fe024b2-e7e6-49b2-b443-84f8a9d865d4",
   "metadata": {},
   "outputs": [],
   "source": [
    "## Paso 5: Guarda el inventario actualizado en un fichero de tipo JSON"
   ]
  },
  {
   "cell_type": "code",
   "execution_count": 8,
   "id": "7a4d715a-a207-492b-82fb-1923abe21ca6",
   "metadata": {},
   "outputs": [
    {
     "name": "stdout",
     "output_type": "stream",
     "text": [
      "\n",
      "Inventario actualizado guardado con éxito en 'inventario_actualizado.json'.\n"
     ]
    }
   ],
   "source": [
    "import json\n",
    "with open(\"Inventario_actualizado.json\", \"w\") as fichero_json:\n",
    "    json.dump(inventario, fichero_json)\n",
    "\n",
    "print(\"\\nInventario actualizado guardado con éxito en 'inventario_actualizado.json'.\")"
   ]
  },
  {
   "cell_type": "code",
   "execution_count": null,
   "id": "ea5aaf48-23e3-422e-83f3-ec0f5169bc51",
   "metadata": {},
   "outputs": [],
   "source": []
  }
 ],
 "metadata": {
  "kernelspec": {
   "display_name": "Python 3 (ipykernel)",
   "language": "python",
   "name": "python3"
  },
  "language_info": {
   "codemirror_mode": {
    "name": "ipython",
    "version": 3
   },
   "file_extension": ".py",
   "mimetype": "text/x-python",
   "name": "python",
   "nbconvert_exporter": "python",
   "pygments_lexer": "ipython3",
   "version": "3.10.15"
  }
 },
 "nbformat": 4,
 "nbformat_minor": 5
}
